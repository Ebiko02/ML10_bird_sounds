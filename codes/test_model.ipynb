{
 "cells": [
  {
   "cell_type": "markdown",
   "metadata": {},
   "source": [
    "Importer les bibliothèques"
   ]
  },
  {
   "cell_type": "code",
   "execution_count": 1,
   "metadata": {},
   "outputs": [],
   "source": [
    "import numpy as np\n",
    "import pandas as pd\n",
    "import matplotlib.pyplot as plt\n",
    "import librosa\n",
    "from glob import glob\n",
    "import IPython.display as ipd\n",
    "import tensorflow as tf\n",
    "from PIL import Image\n",
    "from matplotlib.pyplot import imread\n",
    "import matplotlib.pyplot as plt\n",
    "from sklearn.utils import shuffle\n",
    "from keras.utils import to_categorical\n",
    "from tensorflow.keras import layers\n",
    "from tensorflow.keras.models import load_model"
   ]
  },
  {
   "cell_type": "markdown",
   "metadata": {},
   "source": [
    "Import metadata"
   ]
  },
  {
   "cell_type": "code",
   "execution_count": 2,
   "metadata": {},
   "outputs": [],
   "source": [
    "# Charger les métadonnées des chansons d'oiseaux\n",
    "df = pd.read_csv(\"ouiseau/bird_songs_metadata.csv\")\n",
    "class_names = df[\"name\"].unique()"
   ]
  },
  {
   "cell_type": "markdown",
   "metadata": {},
   "source": [
    "Récupérer tous les fichiers audio"
   ]
  },
  {
   "cell_type": "code",
   "execution_count": 3,
   "metadata": {},
   "outputs": [],
   "source": [
    "# Définir le chemin vers les fichiers audio\n",
    "path_to_wav = \"ouiseau/wavfiles/\"\n",
    "datafiles = glob(path_to_wav + \"*\")"
   ]
  },
  {
   "cell_type": "markdown",
   "metadata": {},
   "source": [
    "Générer des spectrogrammes"
   ]
  },
  {
   "cell_type": "code",
   "execution_count": 4,
   "metadata": {},
   "outputs": [],
   "source": [
    "# Fonction pour générer un spectrogramme\n",
    "def generate_spectrogram(file_audio, identifier):\n",
    "    audio_data, sample_rate = librosa.load(path_to_wav + file_audio)\n",
    "    spec_mel = librosa.feature.melspectrogram(y=audio_data, sr=sample_rate)\n",
    "    spec_mel = librosa.power_to_db(spec_mel, ref=np.max)\n",
    "    figure, axis = plt.subplots(figsize=(15, 5))\n",
    "    axis.set_title(\"Mel Spectrogram\")\n",
    "    plt.suptitle(identifier)\n",
    "    librosa.display.specshow(spec_mel, x_axis='time', y_axis='log', ax=axis)\n",
    "    return ipd.Audio(path_to_wav + file_audio, rate=sample_rate)"
   ]
  },
  {
   "cell_type": "markdown",
   "metadata": {},
   "source": [
    "Traiter les fichiers audio"
   ]
  },
  {
   "cell_type": "code",
   "execution_count": 5,
   "metadata": {},
   "outputs": [],
   "source": [
    "# Fonction pour traiter un fichier audio\n",
    "def process_audio(audio_file):\n",
    "    audio_data, sample_rate = librosa.load(audio_file, duration=10)\n",
    "    mel_spec = librosa.feature.melspectrogram(y=audio_data, sr=sample_rate) \n",
    "    mel_spec = librosa.power_to_db(mel_spec, ref=np.max)\n",
    "    return mel_spec"
   ]
  },
  {
   "cell_type": "markdown",
   "metadata": {},
   "source": [
    "Générer un DataFrame pour les tests"
   ]
  },
  {
   "cell_type": "code",
   "execution_count": 6,
   "metadata": {},
   "outputs": [],
   "source": [
    "# Créer un DataFrame pour les données de test\n",
    "df_train = pd.DataFrame({\"name\": df[\"name\"], \"audiopath\": path_to_wav + df[\"filename\"]})\n",
    "\n",
    "# Générer les spectrogrammes Mel pour chaque fichier audio\n",
    "df_train[\"mel_spec\"] = df_train[\"audiopath\"].apply(lambda x: process_audio(x))\n",
    "\n",
    "# Encoder les étiquettes de classe\n",
    "df_train[\"class\"] = df_train[\"name\"].factorize()[0]"
   ]
  },
  {
   "cell_type": "markdown",
   "metadata": {},
   "source": [
    "Mélanger les données"
   ]
  },
  {
   "cell_type": "code",
   "execution_count": 7,
   "metadata": {},
   "outputs": [],
   "source": [
    "# Mélanger les données\n",
    "df_train = shuffle(df_train)"
   ]
  },
  {
   "cell_type": "markdown",
   "metadata": {},
   "source": [
    "Séparer les étiquettes des données"
   ]
  },
  {
   "cell_type": "code",
   "execution_count": 8,
   "metadata": {},
   "outputs": [],
   "source": [
    "# Séparer les données et les étiquettes\n",
    "(test_x, test_y) = df_train[\"mel_spec\"].values, df_train[\"class\"].values\n",
    "test_y = to_categorical(test_y, num_classes=len(class_names))\n",
    "test_x = np.stack(test_x[:])\n",
    "test_x = tf.keras.utils.normalize(test_x)\n",
    "\n",
    "# Préparer l'ensemble de test\n",
    "test_dataset = tf.data.Dataset.from_tensor_slices((test_x, test_y))\n",
    "test_dataset = test_dataset.batch(10)\n",
    "test_dataset = test_dataset.prefetch(tf.data.AUTOTUNE)"
   ]
  },
  {
   "cell_type": "markdown",
   "metadata": {},
   "source": [
    "Importer le modèle"
   ]
  },
  {
   "cell_type": "code",
   "execution_count": 9,
   "metadata": {},
   "outputs": [],
   "source": [
    "# Charger le modèle sauvegardé\n",
    "saved_model_path = \"modeles/saved_model.keras\"\n",
    "model = load_model(saved_model_path)"
   ]
  },
  {
   "cell_type": "markdown",
   "metadata": {},
   "source": [
    "Tester le modèle"
   ]
  },
  {
   "cell_type": "code",
   "execution_count": 10,
   "metadata": {},
   "outputs": [
    {
     "name": "stdout",
     "output_type": "stream",
     "text": [
      "543/543 - 20s - 37ms/step - accuracy: 0.9841 - loss: 0.2363 - precision: 0.9841 - recall: 0.9841\n",
      "\u001b[1m543/543\u001b[0m \u001b[32m━━━━━━━━━━━━━━━━━━━━\u001b[0m\u001b[37m\u001b[0m \u001b[1m9s\u001b[0m 16ms/step\n",
      "\u001b[1m543/543\u001b[0m \u001b[32m━━━━━━━━━━━━━━━━━━━━\u001b[0m\u001b[37m\u001b[0m \u001b[1m9s\u001b[0m 16ms/step\n",
      "                      precision    recall  f1-score   support\n",
      "\n",
      "       Bewick's Wren       0.99      0.98      0.98       893\n",
      "Northern Mockingbird       0.98      0.98      0.98      1182\n",
      "      American Robin       0.99      0.98      0.98      1017\n",
      "        Song Sparrow       0.98      0.99      0.98      1256\n",
      "   Northern Cardinal       0.99      0.99      0.99      1074\n",
      "\n",
      "            accuracy                           0.98      5422\n",
      "           macro avg       0.98      0.98      0.98      5422\n",
      "        weighted avg       0.98      0.98      0.98      5422\n",
      "\n",
      "                      precision    recall  f1-score   support\n",
      "\n",
      "       Bewick's Wren       0.99      0.98      0.98       893\n",
      "Northern Mockingbird       0.98      0.98      0.98      1182\n",
      "      American Robin       0.99      0.98      0.98      1017\n",
      "        Song Sparrow       0.98      0.99      0.98      1256\n",
      "   Northern Cardinal       0.99      0.99      0.99      1074\n",
      "\n",
      "            accuracy                           0.98      5422\n",
      "           macro avg       0.98      0.98      0.98      5422\n",
      "        weighted avg       0.98      0.98      0.98      5422\n",
      "\n"
     ]
    }
   ],
   "source": [
    "# Tester le modèle et générer un rapport de classification\n",
    "from sklearn.metrics import classification_report\n",
    "\n",
    "model.evaluate(test_dataset, verbose=2)\n",
    "\n",
    "# Obtenir les prédictions\n",
    "predictions = model.predict(test_dataset)\n",
    "predicted_classes = np.argmax(predictions, axis=1)\n",
    "true_classes = np.argmax(test_y, axis=1)\n",
    "\n",
    "# Générer un rapport de classification\n",
    "report = classification_report(true_classes, predicted_classes, target_names=class_names)\n",
    "print(report)"
   ]
  },
  {
   "cell_type": "markdown",
   "metadata": {},
   "source": [
    "Matrice de confusion"
   ]
  },
  {
   "cell_type": "code",
   "execution_count": 11,
   "metadata": {},
   "outputs": [
    {
     "name": "stdout",
     "output_type": "stream",
     "text": [
      "\u001b[1m543/543\u001b[0m \u001b[32m━━━━━━━━━━━━━━━━━━━━\u001b[0m\u001b[37m\u001b[0m \u001b[1m10s\u001b[0m 19ms/step\n",
      "\u001b[1m543/543\u001b[0m \u001b[32m━━━━━━━━━━━━━━━━━━━━\u001b[0m\u001b[37m\u001b[0m \u001b[1m10s\u001b[0m 19ms/step\n"
     ]
    },
    {
     "data": {
      "image/png": "[encoded data removed]",
      "text/plain": [
       "<Figure size 1000x800 with 2 Axes>"
      ]
     },
     "metadata": {},
     "output_type": "display_data"
    }
   ],
   "source": [
    "# Générer une matrice de confusion\n",
    "from sklearn.metrics import confusion_matrix\n",
    "import seaborn as sns\n",
    "import matplotlib.pyplot as plt\n",
    "import numpy as np\n",
    "import pandas as pd\n",
    "import tensorflow as tf\n",
    "from sklearn.metrics import classification_report\n",
    "\n",
    "# Obtenir les prédictions\n",
    "predictions = model.predict(test_dataset)\n",
    "predicted_classes = np.argmax(predictions, axis=1)\n",
    "true_classes = np.argmax(test_y, axis=1)\n",
    "\n",
    "# Générer la matrice de confusion\n",
    "cm = confusion_matrix(true_classes, predicted_classes)\n",
    "cm_df = pd.DataFrame(cm, index=class_names, columns=class_names)\n",
    "\n",
    "plt.figure(figsize=(10, 8))\n",
    "sns.heatmap(cm_df, annot=True, fmt='d', cmap='Blues')\n",
    "plt.title('Confusion Matrix')\n",
    "plt.ylabel('True label')\n",
    "plt.xlabel('Predicted label')\n",
    "plt.show()"
   ]
  },
  {
   "cell_type": "code",
   "execution_count": 12,
   "metadata": {},
   "outputs": [
    {
     "name": "stdout",
     "output_type": "stream",
     "text": [
      "Nombre total de faux positifs : 86\n"
     ]
    }
   ],
   "source": [
    "# Calculer le nombre total de faux positifs\n",
    "false_positives = cm.sum(axis=0) - np.diag(cm)\n",
    "total_false_positives = false_positives.sum()\n",
    "print(\"Nombre total de faux positifs :\", total_false_positives)"
   ]
  },
  {
   "cell_type": "code",
   "execution_count": 13,
   "metadata": {},
   "outputs": [
    {
     "name": "stdout",
     "output_type": "stream",
     "text": [
      "Liste de tous les modèles : ['modeles\\\\saved_model.keras', 'modeles\\\\model97.keras', 'modeles\\\\model83.keras', 'modeles\\\\model82.keras', 'modeles\\\\model84.keras', 'modeles\\\\model_over.keras', 'modeles\\\\model_test_L.keras']\n",
      "\u001b[1m543/543\u001b[0m \u001b[32m━━━━━━━━━━━━━━━━━━━━\u001b[0m\u001b[37m\u001b[0m \u001b[1m11s\u001b[0m 20ms/step\n",
      "\u001b[1m543/543\u001b[0m \u001b[32m━━━━━━━━━━━━━━━━━━━━\u001b[0m\u001b[37m\u001b[0m \u001b[1m11s\u001b[0m 20ms/step\n",
      "Modèle : modeles\\saved_model.keras, Nombre total de faux positifs : 86\n",
      "Modèle : modeles\\saved_model.keras, Nombre total de faux positifs : 86\n",
      "\u001b[1m  4/543\u001b[0m \u001b[37m━━━━━━━━━━━━━━━━━━━━\u001b[0m \u001b[1m9s\u001b[0m 18ms/step "
     ]
    },
    {
     "name": "stderr",
     "output_type": "stream",
     "text": [
      "c:\\Users\\marti\\AppData\\Local\\Programs\\Python\\Python312\\Lib\\site-packages\\keras\\src\\saving\\saving_lib.py:757: UserWarning: Skipping variable loading for optimizer 'rmsprop', because it has 12 variables whereas the saved optimizer has 22 variables. \n",
      "  saveable.load_own_variables(weights_store.get(inner_path))\n"
     ]
    },
    {
     "name": "stdout",
     "output_type": "stream",
     "text": [
      "\u001b[1m543/543\u001b[0m \u001b[32m━━━━━━━━━━━━━━━━━━━━\u001b[0m\u001b[37m\u001b[0m \u001b[1m9s\u001b[0m 17ms/step\n",
      "\u001b[1m543/543\u001b[0m \u001b[32m━━━━━━━━━━━━━━━━━━━━\u001b[0m\u001b[37m\u001b[0m \u001b[1m9s\u001b[0m 17ms/step\n",
      "Modèle : modeles\\model97.keras, Nombre total de faux positifs : 159\n",
      "Modèle : modeles\\model97.keras, Nombre total de faux positifs : 159\n",
      "\u001b[1m543/543\u001b[0m \u001b[32m━━━━━━━━━━━━━━━━━━━━\u001b[0m\u001b[37m\u001b[0m \u001b[1m9s\u001b[0m 17ms/step\n",
      "\u001b[1m543/543\u001b[0m \u001b[32m━━━━━━━━━━━━━━━━━━━━\u001b[0m\u001b[37m\u001b[0m \u001b[1m9s\u001b[0m 17ms/step\n",
      "Modèle : modeles\\model83.keras, Nombre total de faux positifs : 197\n",
      "Modèle : modeles\\model83.keras, Nombre total de faux positifs : 197\n",
      "\u001b[1m543/543\u001b[0m \u001b[32m━━━━━━━━━━━━━━━━━━━━\u001b[0m\u001b[37m\u001b[0m \u001b[1m8s\u001b[0m 15ms/step\n",
      "\u001b[1m543/543\u001b[0m \u001b[32m━━━━━━━━━━━━━━━━━━━━\u001b[0m\u001b[37m\u001b[0m \u001b[1m8s\u001b[0m 15ms/step\n",
      "Modèle : modeles\\model82.keras, Nombre total de faux positifs : 836\n",
      "Modèle : modeles\\model82.keras, Nombre total de faux positifs : 836\n",
      "\u001b[1m543/543\u001b[0m \u001b[32m━━━━━━━━━━━━━━━━━━━━\u001b[0m\u001b[37m\u001b[0m \u001b[1m9s\u001b[0m 17ms/step\n",
      "\u001b[1m543/543\u001b[0m \u001b[32m━━━━━━━━━━━━━━━━━━━━\u001b[0m\u001b[37m\u001b[0m \u001b[1m9s\u001b[0m 17ms/step\n",
      "Modèle : modeles\\model84.keras, Nombre total de faux positifs : 167\n",
      "Modèle : modeles\\model84.keras, Nombre total de faux positifs : 167\n",
      "\u001b[1m543/543\u001b[0m \u001b[32m━━━━━━━━━━━━━━━━━━━━\u001b[0m\u001b[37m\u001b[0m \u001b[1m9s\u001b[0m 17ms/step\n",
      "\u001b[1m543/543\u001b[0m \u001b[32m━━━━━━━━━━━━━━━━━━━━\u001b[0m\u001b[37m\u001b[0m \u001b[1m9s\u001b[0m 17ms/step\n",
      "Modèle : modeles\\model_over.keras, Nombre total de faux positifs : 165\n",
      "Modèle : modeles\\model_over.keras, Nombre total de faux positifs : 165\n",
      "\u001b[1m543/543\u001b[0m \u001b[32m━━━━━━━━━━━━━━━━━━━━\u001b[0m\u001b[37m\u001b[0m \u001b[1m7s\u001b[0m 13ms/step\n",
      "\u001b[1m543/543\u001b[0m \u001b[32m━━━━━━━━━━━━━━━━━━━━\u001b[0m\u001b[37m\u001b[0m \u001b[1m7s\u001b[0m 13ms/step\n",
      "Modèle : modeles\\model_test_L.keras, Nombre total de faux positifs : 357\n",
      "Modèle : modeles\\model_test_L.keras, Nombre total de faux positifs : 357\n"
     ]
    }
   ],
   "source": [
    "# Comparer les modèles sauvegardés\n",
    "from glob import glob\n",
    "\n",
    "# Récupérer tous les fichiers de modèles\n",
    "model_files = glob(\"modeles/*.keras\")\n",
    "model_names = [model.split(\"/\")[-1] for model in model_files]\n",
    "print(\"Liste de tous les modèles :\", model_names)\n",
    "\n",
    "# Évaluer chaque modèle\n",
    "for model_file in model_files:\n",
    "    temp_model = load_model(model_file)\n",
    "    temp_predictions = temp_model.predict(test_dataset)\n",
    "    temp_predicted_classes = np.argmax(temp_predictions, axis=1)\n",
    "    temp_cm = confusion_matrix(true_classes, temp_predicted_classes)\n",
    "    temp_false_positives = temp_cm.sum(axis=0) - np.diag(temp_cm)\n",
    "    print(f\"Modèle : {model_file}, Nombre total de faux positifs : {temp_false_positives.sum()}\")"
   ]
  }
 ],
 "metadata": {
  "kernelspec": {
   "display_name": "Python 3",
   "language": "python",
   "name": "python3"
  },
  "language_info": {
   "codemirror_mode": {
    "name": "ipython",
    "version": 3
   },
   "file_extension": ".py",
   "mimetype": "text/x-python",
   "name": "python",
   "nbconvert_exporter": "python",
   "pygments_lexer": "ipython3",
   "version": "3.12.2"
  }
 },
 "nbformat": 4,
 "nbformat_minor": 2
}
